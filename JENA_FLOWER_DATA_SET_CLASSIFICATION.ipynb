{
  "nbformat": 4,
  "nbformat_minor": 0,
  "metadata": {
    "colab": {
      "name": "JENA FLOWER DATA-SET CLASSIFICATION",
      "provenance": [],
      "collapsed_sections": []
    },
    "kernelspec": {
      "name": "python3",
      "display_name": "Python 3"
    }
  },
  "cells": [
    {
      "cell_type": "markdown",
      "metadata": {
        "id": "ojR6UX6av-hN",
        "colab_type": "text"
      },
      "source": [
        "**Rutweek Sawant Assignment - 2**"
      ]
    },
    {
      "cell_type": "markdown",
      "metadata": {
        "id": "x-5NlfiXmovc",
        "colab_type": "text"
      },
      "source": [
        "![alt text](https://drive.google.com/uc?id=1whg-EG5A2nXlukZk0YmfCmmC71V76neb)"
      ]
    },
    {
      "cell_type": "markdown",
      "metadata": {
        "id": "rXe7mSUowwc_",
        "colab_type": "text"
      },
      "source": [
        "**Import Libraries**"
      ]
    },
    {
      "cell_type": "code",
      "metadata": {
        "id": "KtjB20x9b93p",
        "colab_type": "code",
        "outputId": "ebb150c9-3217-4cb9-f2ab-70c5f311b0a6",
        "colab": {
          "base_uri": "https://localhost:8080/",
          "height": 96
        }
      },
      "source": [
        "#!pip install tensorflow==1.14\n",
        "import numpy as np\n",
        "import tensorflow as tf\n",
        "import os\n",
        "from tensorflow import keras\n",
        "from IPython import display\n",
        "import pandas as pd\n",
        "from tensorflow.python.data import Dataset\n",
        "from sklearn import preprocessing\n",
        "from sklearn.preprocessing import StandardScaler\n",
        "import matplotlib.pyplot as plt\n",
        "from keras.models import Sequential\n",
        "from keras.layers import Dense\n",
        "from keras.layers import Activation\n",
        "from keras.layers import Dropout, GaussianNoise, GaussianDropout\n",
        "from keras.layers import Flatten, BatchNormalization\n",
        "from keras.layers.convolutional import Conv2D, SeparableConv2D\n",
        "from keras.constraints import maxnorm\n",
        "from keras.layers.convolutional import MaxPooling2D\n",
        "from keras.utils import np_utils\n",
        "from keras import backend as K\n",
        "from keras import regularizers, optimizers\n",
        "print(tf.__version__)\n",
        "from keras.preprocessing.image import ImageDataGenerator\n",
        "import torchvision.transforms as transforms\n",
        "import torchvision.datasets as datasets\n",
        "from keras import models\n",
        "from keras import layers"
      ],
      "execution_count": 0,
      "outputs": [
        {
          "output_type": "display_data",
          "data": {
            "text/html": [
              "<p style=\"color: red;\">\n",
              "The default version of TensorFlow in Colab will soon switch to TensorFlow 2.x.<br>\n",
              "We recommend you <a href=\"https://www.tensorflow.org/guide/migrate\" target=\"_blank\">upgrade</a> now \n",
              "or ensure your notebook will continue to use TensorFlow 1.x via the <code>%tensorflow_version 1.x</code> magic:\n",
              "<a href=\"https://colab.research.google.com/notebooks/tensorflow_version.ipynb\" target=\"_blank\">more info</a>.</p>\n"
            ],
            "text/plain": [
              "<IPython.core.display.HTML object>"
            ]
          },
          "metadata": {
            "tags": []
          }
        },
        {
          "output_type": "stream",
          "text": [
            "Using TensorFlow backend.\n"
          ],
          "name": "stderr"
        },
        {
          "output_type": "stream",
          "text": [
            "1.15.0\n"
          ],
          "name": "stdout"
        }
      ]
    },
    {
      "cell_type": "markdown",
      "metadata": {
        "id": "E4ZShIUH3UWf",
        "colab_type": "text"
      },
      "source": [
        "**Mount Drive**"
      ]
    },
    {
      "cell_type": "code",
      "metadata": {
        "id": "Clgy9OiMuVzN",
        "colab_type": "code",
        "colab": {}
      },
      "source": [
        "from google.colab import drive\n",
        "drive.mount('/content/drive')\n",
        "train_dir = '|------Train Directory--------|'\n",
        "test_dir = '|-------Test Directory---------|'\n",
        "valid_dir= '|-------Val Directory----------|'"
      ],
      "execution_count": 0,
      "outputs": []
    },
    {
      "cell_type": "markdown",
      "metadata": {
        "id": "owb0NTm-wugu",
        "colab_type": "text"
      },
      "source": [
        "**Image Preprocessing**\n",
        "\n",
        "\n",
        "*   Image Size = Set it as per your Computational Capacity\n",
        "*   Calling Imagegenerator transform Test|Train|Validation images\n",
        "\n",
        "\n"
      ]
    },
    {
      "cell_type": "code",
      "metadata": {
        "id": "1GUii4oaAElD",
        "colab_type": "code",
        "outputId": "798131e1-cbf6-49f1-d5ef-2b27479ab555",
        "colab": {
          "base_uri": "https://localhost:8080/",
          "height": 67
        }
      },
      "source": [
        "image_size = 64\n",
        "#Training data with augmentation\n",
        "train_datagen = ImageDataGenerator(\n",
        "      rescale=1./255,\n",
        "      rotation_range=45,\n",
        "      width_shift_range=0.5,\n",
        "      height_shift_range=0.5,\n",
        "      brightness_range=[0.2,0.8],\n",
        "     # np.clip(x_channel + np.random.uniform(-value, value), min_img, max_img) for x_channel in img,\n",
        "      horizontal_flip=True,\n",
        "      vertical_flip=True,\n",
        "      fill_mode='nearest')\n",
        "\n",
        "test_datagen = ImageDataGenerator(rescale=1./255)\n",
        "\n",
        "\n",
        "train_batchsize = 36\n",
        "tst_batchsize = 10\n",
        "\n",
        "# Data Generator for Training data\n",
        "train_generator = train_datagen.flow_from_directory(\n",
        "        train_dir,\n",
        "        target_size=(image_size, image_size),\n",
        "        batch_size=train_batchsize,\n",
        "        class_mode='categorical')\n",
        "# Data Generator for Test data\n",
        "val_generator = test_datagen.flow_from_directory(\n",
        "        valid_dir,\n",
        "        target_size=(image_size, image_size),\n",
        "        batch_size=tst_batchsize,\n",
        "        class_mode='categorical',\n",
        "        shuffle=False)\n",
        "# Data Generator for Test data\n",
        "test_generator = test_datagen.flow_from_directory(\n",
        "        test_dir,\n",
        "        target_size=(image_size, image_size),\n",
        "        batch_size=tst_batchsize,\n",
        "        class_mode='categorical',\n",
        "        shuffle=False)"
      ],
      "execution_count": 0,
      "outputs": [
        {
          "output_type": "stream",
          "text": [
            "Found 888 images belonging to 30 classes.\n",
            "Found 473 images belonging to 30 classes.\n",
            "Found 118 images belonging to 28 classes.\n"
          ],
          "name": "stdout"
        }
      ]
    },
    {
      "cell_type": "markdown",
      "metadata": {
        "id": "0RRLcvSWgMIO",
        "colab_type": "text"
      },
      "source": [
        "**CNN Model - Base Model**"
      ]
    },
    {
      "cell_type": "markdown",
      "metadata": {
        "id": "s6bDJ-Xtp8Hg",
        "colab_type": "text"
      },
      "source": [
        "![alt text](https://drive.google.com/uc?id=1bWKdBdt6BPnNn_8e_y-ZopCCt-CrJ2Nb)"
      ]
    },
    {
      "cell_type": "markdown",
      "metadata": {
        "id": "1g1NargPvw7B",
        "colab_type": "text"
      },
      "source": [
        "Image Credits:\n",
        "\n",
        "\n",
        "*   https://towardsdatascience.com/a-comprehensive-guide-to-convolutional-neural-networks-the-eli5-way-3bd2b1164a53\n",
        "*   Sumit Saha\n",
        "\n",
        "\n"
      ]
    },
    {
      "cell_type": "code",
      "metadata": {
        "id": "x26N44KwAEvW",
        "colab_type": "code",
        "colab": {}
      },
      "source": [
        "# Create the model\n",
        "model = Sequential()\n",
        "model.add(Conv2D(32, (3, 3), padding='same', input_shape=(image_size, image_size, 3)))\n",
        "model.add(Activation('relu'))\n",
        "model.add(Conv2D(32,(3, 3)))\n",
        "model.add(Activation('relu'))\n",
        "model.add(MaxPooling2D(pool_size=(2, 2)))\n",
        "model.add(Dropout(0.25))\n",
        " \n",
        "model.add(Conv2D(32, (3, 3), padding='same'))\n",
        "model.add(Activation('relu'))\n",
        "model.add(Conv2D(32, (3,3)))\n",
        "model.add(Activation('relu'))\n",
        "model.add(MaxPooling2D(pool_size=(2, 2)))\n",
        "model.add(Dropout(0.25))\n",
        " \n",
        "model.add(Flatten())\n",
        "model.add(Dense(512))\n",
        "model.add(Activation('relu'))\n",
        "model.add(Dropout(0.5))\n",
        "model.add(Dense(30))\n",
        "model.add(Activation('softmax'))"
      ],
      "execution_count": 0,
      "outputs": []
    },
    {
      "cell_type": "code",
      "metadata": {
        "id": "zcLneLr_AExr",
        "colab_type": "code",
        "outputId": "481cbab0-583f-4e34-97d6-1d2fb875caa2",
        "colab": {
          "base_uri": "https://localhost:8080/",
          "height": 756
        }
      },
      "source": [
        "model.summary()"
      ],
      "execution_count": 0,
      "outputs": [
        {
          "output_type": "stream",
          "text": [
            "Model: \"sequential_15\"\n",
            "_________________________________________________________________\n",
            "Layer (type)                 Output Shape              Param #   \n",
            "=================================================================\n",
            "conv2d_31 (Conv2D)           (None, 64, 64, 32)        896       \n",
            "_________________________________________________________________\n",
            "activation_227 (Activation)  (None, 64, 64, 32)        0         \n",
            "_________________________________________________________________\n",
            "conv2d_32 (Conv2D)           (None, 62, 62, 32)        9248      \n",
            "_________________________________________________________________\n",
            "activation_228 (Activation)  (None, 62, 62, 32)        0         \n",
            "_________________________________________________________________\n",
            "max_pooling2d_15 (MaxPooling (None, 31, 31, 32)        0         \n",
            "_________________________________________________________________\n",
            "dropout_19 (Dropout)         (None, 31, 31, 32)        0         \n",
            "_________________________________________________________________\n",
            "conv2d_33 (Conv2D)           (None, 31, 31, 32)        9248      \n",
            "_________________________________________________________________\n",
            "activation_229 (Activation)  (None, 31, 31, 32)        0         \n",
            "_________________________________________________________________\n",
            "conv2d_34 (Conv2D)           (None, 29, 29, 32)        9248      \n",
            "_________________________________________________________________\n",
            "activation_230 (Activation)  (None, 29, 29, 32)        0         \n",
            "_________________________________________________________________\n",
            "max_pooling2d_16 (MaxPooling (None, 14, 14, 32)        0         \n",
            "_________________________________________________________________\n",
            "dropout_20 (Dropout)         (None, 14, 14, 32)        0         \n",
            "_________________________________________________________________\n",
            "flatten_12 (Flatten)         (None, 6272)              0         \n",
            "_________________________________________________________________\n",
            "dense_32 (Dense)             (None, 512)               3211776   \n",
            "_________________________________________________________________\n",
            "activation_231 (Activation)  (None, 512)               0         \n",
            "_________________________________________________________________\n",
            "dropout_21 (Dropout)         (None, 512)               0         \n",
            "_________________________________________________________________\n",
            "dense_33 (Dense)             (None, 30)                15390     \n",
            "_________________________________________________________________\n",
            "activation_232 (Activation)  (None, 30)                0         \n",
            "=================================================================\n",
            "Total params: 3,255,806\n",
            "Trainable params: 3,255,806\n",
            "Non-trainable params: 0\n",
            "_________________________________________________________________\n"
          ],
          "name": "stdout"
        }
      ]
    },
    {
      "cell_type": "code",
      "metadata": {
        "id": "kppy3Ep4AE0M",
        "colab_type": "code",
        "outputId": "ce2278f7-6a41-404b-8d3b-03326e48c491",
        "colab": {
          "base_uri": "https://localhost:8080/",
          "height": 353
        }
      },
      "source": [
        "image_size = 64\n",
        "model.compile(loss='categorical_crossentropy',\n",
        "              optimizer=optimizers.Adam(lr=1e-4),\n",
        "              metrics=['acc'])\n",
        "history = model.fit_generator(\n",
        "      train_generator,\n",
        "      steps_per_epoch=train_generator.samples/train_generator.batch_size ,\n",
        "      epochs=10,\n",
        "      validation_data=val_generator,\n",
        "      validation_steps=val_generator.samples/val_generator.batch_size,\n",
        "      verbose=1)"
      ],
      "execution_count": 0,
      "outputs": [
        {
          "output_type": "stream",
          "text": [
            "Epoch 1/10\n",
            "25/24 [==============================] - 52s 2s/step - loss: 3.3866 - acc: 0.0311 - val_loss: 3.3581 - val_acc: 0.0424\n",
            "Epoch 2/10\n",
            "25/24 [==============================] - 37s 1s/step - loss: 3.3436 - acc: 0.0595 - val_loss: 3.3510 - val_acc: 0.0742\n",
            "Epoch 3/10\n",
            "25/24 [==============================] - 38s 2s/step - loss: 3.3231 - acc: 0.0716 - val_loss: 3.2501 - val_acc: 0.0975\n",
            "Epoch 4/10\n",
            "25/24 [==============================] - 37s 1s/step - loss: 3.2673 - acc: 0.0950 - val_loss: 3.1743 - val_acc: 0.0975\n",
            "Epoch 5/10\n",
            "25/24 [==============================] - 38s 2s/step - loss: 3.2013 - acc: 0.0800 - val_loss: 3.1008 - val_acc: 0.0763\n",
            "Epoch 6/10\n",
            "25/24 [==============================] - 37s 1s/step - loss: 3.1610 - acc: 0.0994 - val_loss: 3.0979 - val_acc: 0.0826\n",
            "Epoch 7/10\n",
            "25/24 [==============================] - 37s 1s/step - loss: 3.1531 - acc: 0.1006 - val_loss: 3.0728 - val_acc: 0.0847\n",
            "Epoch 8/10\n",
            "25/24 [==============================] - 37s 1s/step - loss: 3.1066 - acc: 0.0928 - val_loss: 3.0675 - val_acc: 0.0826\n",
            "Epoch 9/10\n",
            "25/24 [==============================] - 37s 1s/step - loss: 3.1008 - acc: 0.1028 - val_loss: 3.0211 - val_acc: 0.0932\n",
            "Epoch 10/10\n",
            "25/24 [==============================] - 38s 2s/step - loss: 3.0904 - acc: 0.1055 - val_loss: 3.1076 - val_acc: 0.0784\n"
          ],
          "name": "stdout"
        }
      ]
    },
    {
      "cell_type": "code",
      "metadata": {
        "id": "nCHTsta4AE25",
        "colab_type": "code",
        "outputId": "0b2d98b7-f924-4206-f71e-2b0cc96be65f",
        "colab": {
          "base_uri": "https://localhost:8080/",
          "height": 545
        }
      },
      "source": [
        "\n",
        "# Plot the accuracy and loss curves\n",
        "acc = history.history['acc']\n",
        "val_acc = history.history['val_acc']\n",
        "loss = history.history['loss']\n",
        "val_loss = history.history['val_loss']\n",
        "epochs = range(len(acc))\n",
        "plt.plot(epochs, acc, 'b', label='Training acc')\n",
        "plt.plot(epochs, val_acc, 'r', label='Test acc')\n",
        "plt.title('Training and test accuracy')\n",
        "plt.legend()\n",
        "plt.figure()\n",
        "plt.plot(epochs, loss, 'b', label='Training loss')\n",
        "plt.plot(epochs, val_loss, 'r', label='Test loss')\n",
        "plt.title('Training and test loss')\n",
        "plt.legend()\n",
        "plt.show()"
      ],
      "execution_count": 0,
      "outputs": [
        {
          "output_type": "display_data",
          "data": {
            "image/png": "[encoded data removed]",
            "text/plain": [
              "<Figure size 432x288 with 1 Axes>"
            ]
          },
          "metadata": {
            "tags": []
          }
        },
        {
          "output_type": "display_data",
          "data": {
            "image/png": "[encoded data removed]",
            "text/plain": [
              "<Figure size 432x288 with 1 Axes>"
            ]
          },
          "metadata": {
            "tags": []
          }
        }
      ]
    },
    {
      "cell_type": "markdown",
      "metadata": {
        "id": "5bNnh3mgK9bE",
        "colab_type": "text"
      },
      "source": [
        "**VGG**"
      ]
    },
    {
      "cell_type": "markdown",
      "metadata": {
        "id": "XFiypz1jrKI0",
        "colab_type": "text"
      },
      "source": [
        "![alt text](https://drive.google.com/uc?id=1eSF8GF7u9UwFkphHD78T4ht9dHemL4nb)"
      ]
    },
    {
      "cell_type": "markdown",
      "metadata": {
        "id": "Abg8iWe-qBaf",
        "colab_type": "text"
      },
      "source": [
        "Image Credits\n",
        "\n",
        "\n",
        "*   https://towardsdatascience.com/understand-the-architecture-of-cnn-90a25e244c7\n",
        "*   Author: Kousai Smeda\n",
        "\n",
        "\n"
      ]
    },
    {
      "cell_type": "markdown",
      "metadata": {
        "id": "IH469DQisqUF",
        "colab_type": "text"
      },
      "source": [
        "Image Credits\n",
        "\n",
        "\n",
        "*   https://towardsdatascience.com/transfer-learning-with-convolutional-neural-networks-in-pytorch-dd09190245ce\n",
        "*   Author:Will Koehrsen\n",
        "\n",
        "\n"
      ]
    },
    {
      "cell_type": "markdown",
      "metadata": {
        "id": "SSMY0jkerKTL",
        "colab_type": "text"
      },
      "source": [
        ""
      ]
    },
    {
      "cell_type": "code",
      "metadata": {
        "id": "odKxu40dLD7q",
        "colab_type": "code",
        "outputId": "a8082001-3da8-444c-e0b4-e0aaec328a88",
        "colab": {
          "base_uri": "https://localhost:8080/",
          "height": 1058
        }
      },
      "source": [
        "from keras.applications import VGG16\n",
        "vgg = VGG16(weights='imagenet',include_top=False,input_shape=(64,64,3))\n",
        "vgg_conv=Sequential()\n",
        "for layer in vgg.layers:\n",
        "  vgg_conv.add(layer)\n",
        "\n",
        "#vgg_conv = Sequential(layers=vgg_conv.layers)\n",
        "#vgg_conv = Sequential()\n",
        "# Freeze the layers except the last 4 layers\n",
        "for layer in vgg_conv.layers[:-4]:\n",
        "    layer.trainable = False\n",
        "#vgg_conv = tf.keras.models.Sequential()\n",
        "# check the trainable status of the individual layers\n",
        "for layer in vgg_conv.layers:\n",
        "  #layer=tf.keras.models.Sequential()\n",
        "  print(layer, layer.trainable)\n",
        "\n",
        "vgg_conv.summary()\n",
        "model= vgg_conv"
      ],
      "execution_count": 0,
      "outputs": [
        {
          "output_type": "stream",
          "text": [
            "<keras.layers.convolutional.Conv2D object at 0x7f061050b080> False\n",
            "<keras.layers.convolutional.Conv2D object at 0x7f061050b0f0> False\n",
            "<keras.layers.pooling.MaxPooling2D object at 0x7f061052d320> False\n",
            "<keras.layers.convolutional.Conv2D object at 0x7f06104cf898> False\n",
            "<keras.layers.convolutional.Conv2D object at 0x7f06104cfeb8> False\n",
            "<keras.layers.pooling.MaxPooling2D object at 0x7f06104da518> False\n",
            "<keras.layers.convolutional.Conv2D object at 0x7f06104dfe48> False\n",
            "<keras.layers.convolutional.Conv2D object at 0x7f06104e46a0> False\n",
            "<keras.layers.convolutional.Conv2D object at 0x7f06104ea400> False\n",
            "<keras.layers.pooling.MaxPooling2D object at 0x7f06104f0e48> False\n",
            "<keras.layers.convolutional.Conv2D object at 0x7f06104fbd68> False\n",
            "<keras.layers.convolutional.Conv2D object at 0x7f06105005c0> False\n",
            "<keras.layers.convolutional.Conv2D object at 0x7f06105064e0> False\n",
            "<keras.layers.pooling.MaxPooling2D object at 0x7f061048cda0> False\n",
            "<keras.layers.convolutional.Conv2D object at 0x7f0610495c50> True\n",
            "<keras.layers.convolutional.Conv2D object at 0x7f061049e4a8> True\n",
            "<keras.layers.convolutional.Conv2D object at 0x7f06104a2208> True\n",
            "<keras.layers.pooling.MaxPooling2D object at 0x7f06104a6cc0> True\n",
            "Model: \"sequential_9\"\n",
            "_________________________________________________________________\n",
            "Layer (type)                 Output Shape              Param #   \n",
            "=================================================================\n",
            "block1_conv1 (Conv2D)        (None, 64, 64, 64)        1792      \n",
            "_________________________________________________________________\n",
            "block1_conv2 (Conv2D)        (None, 64, 64, 64)        36928     \n",
            "_________________________________________________________________\n",
            "block1_pool (MaxPooling2D)   (None, 32, 32, 64)        0         \n",
            "_________________________________________________________________\n",
            "block2_conv1 (Conv2D)        (None, 32, 32, 128)       73856     \n",
            "_________________________________________________________________\n",
            "block2_conv2 (Conv2D)        (None, 32, 32, 128)       147584    \n",
            "_________________________________________________________________\n",
            "block2_pool (MaxPooling2D)   (None, 16, 16, 128)       0         \n",
            "_________________________________________________________________\n",
            "block3_conv1 (Conv2D)        (None, 16, 16, 256)       295168    \n",
            "_________________________________________________________________\n",
            "block3_conv2 (Conv2D)        (None, 16, 16, 256)       590080    \n",
            "_________________________________________________________________\n",
            "block3_conv3 (Conv2D)        (None, 16, 16, 256)       590080    \n",
            "_________________________________________________________________\n",
            "block3_pool (MaxPooling2D)   (None, 8, 8, 256)         0         \n",
            "_________________________________________________________________\n",
            "block4_conv1 (Conv2D)        (None, 8, 8, 512)         1180160   \n",
            "_________________________________________________________________\n",
            "block4_conv2 (Conv2D)        (None, 8, 8, 512)         2359808   \n",
            "_________________________________________________________________\n",
            "block4_conv3 (Conv2D)        (None, 8, 8, 512)         2359808   \n",
            "_________________________________________________________________\n",
            "block4_pool (MaxPooling2D)   (None, 4, 4, 512)         0         \n",
            "_________________________________________________________________\n",
            "block5_conv1 (Conv2D)        (None, 4, 4, 512)         2359808   \n",
            "_________________________________________________________________\n",
            "block5_conv2 (Conv2D)        (None, 4, 4, 512)         2359808   \n",
            "_________________________________________________________________\n",
            "block5_conv3 (Conv2D)        (None, 4, 4, 512)         2359808   \n",
            "_________________________________________________________________\n",
            "block5_pool (MaxPooling2D)   (None, 2, 2, 512)         0         \n",
            "=================================================================\n",
            "Total params: 14,714,688\n",
            "Trainable params: 7,079,424\n",
            "Non-trainable params: 7,635,264\n",
            "_________________________________________________________________\n"
          ],
          "name": "stdout"
        }
      ]
    },
    {
      "cell_type": "code",
      "metadata": {
        "id": "dO9hWv38UE-w",
        "colab_type": "code",
        "colab": {}
      },
      "source": [
        "vgg_conv.add(Flatten())\n",
        "vgg_conv.add(Dense(1024, activation='relu'))\n",
        "vgg_conv.add(Dropout(0.5))\n",
        "vgg_conv.add(Dense(1024, activation='relu'))\n",
        "vgg_conv.add(Dense(1024, activation='relu'))\n",
        "vgg_conv.add(Dense(30, activation= tf.nn.softmax))"
      ],
      "execution_count": 0,
      "outputs": []
    },
    {
      "cell_type": "code",
      "metadata": {
        "id": "h6Hz3p5RLz5-",
        "colab_type": "code",
        "outputId": "7337ef38-5ccc-4edb-cd41-72edac4c43cc",
        "colab": {
          "base_uri": "https://localhost:8080/",
          "height": 958
        }
      },
      "source": [
        "vgg_conv.summary()"
      ],
      "execution_count": 0,
      "outputs": [
        {
          "output_type": "stream",
          "text": [
            "Model: \"sequential_9\"\n",
            "_________________________________________________________________\n",
            "Layer (type)                 Output Shape              Param #   \n",
            "=================================================================\n",
            "block1_conv1 (Conv2D)        (None, 64, 64, 64)        1792      \n",
            "_________________________________________________________________\n",
            "block1_conv2 (Conv2D)        (None, 64, 64, 64)        36928     \n",
            "_________________________________________________________________\n",
            "block1_pool (MaxPooling2D)   (None, 32, 32, 64)        0         \n",
            "_________________________________________________________________\n",
            "block2_conv1 (Conv2D)        (None, 32, 32, 128)       73856     \n",
            "_________________________________________________________________\n",
            "block2_conv2 (Conv2D)        (None, 32, 32, 128)       147584    \n",
            "_________________________________________________________________\n",
            "block2_pool (MaxPooling2D)   (None, 16, 16, 128)       0         \n",
            "_________________________________________________________________\n",
            "block3_conv1 (Conv2D)        (None, 16, 16, 256)       295168    \n",
            "_________________________________________________________________\n",
            "block3_conv2 (Conv2D)        (None, 16, 16, 256)       590080    \n",
            "_________________________________________________________________\n",
            "block3_conv3 (Conv2D)        (None, 16, 16, 256)       590080    \n",
            "_________________________________________________________________\n",
            "block3_pool (MaxPooling2D)   (None, 8, 8, 256)         0         \n",
            "_________________________________________________________________\n",
            "block4_conv1 (Conv2D)        (None, 8, 8, 512)         1180160   \n",
            "_________________________________________________________________\n",
            "block4_conv2 (Conv2D)        (None, 8, 8, 512)         2359808   \n",
            "_________________________________________________________________\n",
            "block4_conv3 (Conv2D)        (None, 8, 8, 512)         2359808   \n",
            "_________________________________________________________________\n",
            "block4_pool (MaxPooling2D)   (None, 4, 4, 512)         0         \n",
            "_________________________________________________________________\n",
            "block5_conv1 (Conv2D)        (None, 4, 4, 512)         2359808   \n",
            "_________________________________________________________________\n",
            "block5_conv2 (Conv2D)        (None, 4, 4, 512)         2359808   \n",
            "_________________________________________________________________\n",
            "block5_conv3 (Conv2D)        (None, 4, 4, 512)         2359808   \n",
            "_________________________________________________________________\n",
            "block5_pool (MaxPooling2D)   (None, 2, 2, 512)         0         \n",
            "_________________________________________________________________\n",
            "flatten_9 (Flatten)          (None, 2048)              0         \n",
            "_________________________________________________________________\n",
            "dense_21 (Dense)             (None, 1024)              2098176   \n",
            "_________________________________________________________________\n",
            "dropout_17 (Dropout)         (None, 1024)              0         \n",
            "_________________________________________________________________\n",
            "dense_22 (Dense)             (None, 1024)              1049600   \n",
            "_________________________________________________________________\n",
            "dense_23 (Dense)             (None, 1024)              1049600   \n",
            "_________________________________________________________________\n",
            "dense_24 (Dense)             (None, 30)                30750     \n",
            "=================================================================\n",
            "Total params: 18,942,814\n",
            "Trainable params: 11,307,550\n",
            "Non-trainable params: 7,635,264\n",
            "_________________________________________________________________\n"
          ],
          "name": "stdout"
        }
      ]
    },
    {
      "cell_type": "code",
      "metadata": {
        "id": "AKtLvquXLz8k",
        "colab_type": "code",
        "outputId": "6acb6e4f-77e6-420e-e494-6f0a3f457265",
        "colab": {
          "base_uri": "https://localhost:8080/",
          "height": 1697
        }
      },
      "source": [
        "vgg_conv.compile(loss='categorical_crossentropy',\n",
        "              optimizer=optimizers.Adam(lr=1e-4),\n",
        "              metrics=['acc'])\n",
        "\n",
        "\n",
        "history = vgg_conv.fit_generator(\n",
        "      train_generator,\n",
        "      steps_per_epoch=train_generator.samples/train_generator.batch_size ,\n",
        "      epochs=50,\n",
        "      validation_data=val_generator,\n",
        "      validation_steps=val_generator.samples/val_generator.batch_size,\n",
        "      verbose=1)"
      ],
      "execution_count": 0,
      "outputs": [
        {
          "output_type": "stream",
          "text": [
            "Epoch 1/50\n",
            "25/24 [==============================] - 102s 4s/step - loss: 3.3474 - acc: 0.0628 - val_loss: 3.0887 - val_acc: 0.1589\n",
            "Epoch 2/50\n",
            "25/24 [==============================] - 96s 4s/step - loss: 3.0396 - acc: 0.1317 - val_loss: 2.5288 - val_acc: 0.3199\n",
            "Epoch 3/50\n",
            "25/24 [==============================] - 96s 4s/step - loss: 2.6658 - acc: 0.2250 - val_loss: 2.0146 - val_acc: 0.4195\n",
            "Epoch 4/50\n",
            "25/24 [==============================] - 96s 4s/step - loss: 2.2478 - acc: 0.3317 - val_loss: 1.4821 - val_acc: 0.5784\n",
            "Epoch 5/50\n",
            "25/24 [==============================] - 97s 4s/step - loss: 1.9785 - acc: 0.3678 - val_loss: 1.4172 - val_acc: 0.5614\n",
            "Epoch 6/50\n",
            "25/24 [==============================] - 96s 4s/step - loss: 1.8081 - acc: 0.4172 - val_loss: 1.2671 - val_acc: 0.6038\n",
            "Epoch 7/50\n",
            "25/24 [==============================] - 95s 4s/step - loss: 1.5618 - acc: 0.4745 - val_loss: 1.0281 - val_acc: 0.6419\n",
            "Epoch 8/50\n",
            "25/24 [==============================] - 94s 4s/step - loss: 1.4198 - acc: 0.5183 - val_loss: 0.9706 - val_acc: 0.6843\n",
            "Epoch 9/50\n",
            "25/24 [==============================] - 95s 4s/step - loss: 1.3868 - acc: 0.5462 - val_loss: 1.0037 - val_acc: 0.6377\n",
            "Epoch 10/50\n",
            "25/24 [==============================] - 95s 4s/step - loss: 1.2680 - acc: 0.5805 - val_loss: 0.9230 - val_acc: 0.6864\n",
            "Epoch 11/50\n",
            "25/24 [==============================] - 95s 4s/step - loss: 1.0961 - acc: 0.6299 - val_loss: 0.9293 - val_acc: 0.6801\n",
            "Epoch 12/50\n",
            "25/24 [==============================] - 94s 4s/step - loss: 1.0889 - acc: 0.6300 - val_loss: 0.9622 - val_acc: 0.6970\n",
            "Epoch 13/50\n",
            "25/24 [==============================] - 94s 4s/step - loss: 1.0575 - acc: 0.6417 - val_loss: 0.7819 - val_acc: 0.7585\n",
            "Epoch 14/50\n",
            "25/24 [==============================] - 94s 4s/step - loss: 1.0672 - acc: 0.6311 - val_loss: 0.8380 - val_acc: 0.7309\n",
            "Epoch 15/50\n",
            "25/24 [==============================] - 95s 4s/step - loss: 1.0043 - acc: 0.6611 - val_loss: 0.6476 - val_acc: 0.8030\n",
            "Epoch 16/50\n",
            "25/24 [==============================] - 94s 4s/step - loss: 0.9032 - acc: 0.6945 - val_loss: 0.6936 - val_acc: 0.7691\n",
            "Epoch 17/50\n",
            "25/24 [==============================] - 93s 4s/step - loss: 0.7900 - acc: 0.7283 - val_loss: 0.7262 - val_acc: 0.7564\n",
            "Epoch 18/50\n",
            "25/24 [==============================] - 94s 4s/step - loss: 0.9225 - acc: 0.7072 - val_loss: 0.6925 - val_acc: 0.7733\n",
            "Epoch 19/50\n",
            "25/24 [==============================] - 94s 4s/step - loss: 0.8242 - acc: 0.7184 - val_loss: 0.6824 - val_acc: 0.7797\n",
            "Epoch 20/50\n",
            "25/24 [==============================] - 94s 4s/step - loss: 0.8139 - acc: 0.7206 - val_loss: 0.4776 - val_acc: 0.8559\n",
            "Epoch 21/50\n",
            "25/24 [==============================] - 94s 4s/step - loss: 0.7714 - acc: 0.7323 - val_loss: 0.6611 - val_acc: 0.8136\n",
            "Epoch 22/50\n",
            "25/24 [==============================] - 93s 4s/step - loss: 0.7917 - acc: 0.7316 - val_loss: 0.5455 - val_acc: 0.8263\n",
            "Epoch 23/50\n",
            "25/24 [==============================] - 95s 4s/step - loss: 0.6730 - acc: 0.7761 - val_loss: 0.5828 - val_acc: 0.8432\n",
            "Epoch 24/50\n",
            "25/24 [==============================] - 94s 4s/step - loss: 0.8095 - acc: 0.7183 - val_loss: 0.4824 - val_acc: 0.8263\n",
            "Epoch 25/50\n",
            "25/24 [==============================] - 94s 4s/step - loss: 0.7303 - acc: 0.7411 - val_loss: 0.5910 - val_acc: 0.8305\n",
            "Epoch 26/50\n",
            "25/24 [==============================] - 95s 4s/step - loss: 0.6551 - acc: 0.7756 - val_loss: 0.5566 - val_acc: 0.8390\n",
            "Epoch 27/50\n",
            "25/24 [==============================] - 94s 4s/step - loss: 0.6538 - acc: 0.7644 - val_loss: 0.4474 - val_acc: 0.8665\n",
            "Epoch 28/50\n",
            "25/24 [==============================] - 93s 4s/step - loss: 0.6399 - acc: 0.7850 - val_loss: 0.4992 - val_acc: 0.8644\n",
            "Epoch 29/50\n",
            "25/24 [==============================] - 94s 4s/step - loss: 0.5892 - acc: 0.8161 - val_loss: 0.5524 - val_acc: 0.8411\n",
            "Epoch 30/50\n",
            "25/24 [==============================] - 95s 4s/step - loss: 0.5759 - acc: 0.8089 - val_loss: 0.5106 - val_acc: 0.8602\n",
            "Epoch 31/50\n",
            "25/24 [==============================] - 95s 4s/step - loss: 0.6814 - acc: 0.7600 - val_loss: 0.5733 - val_acc: 0.8390\n",
            "Epoch 32/50\n",
            "25/24 [==============================] - 96s 4s/step - loss: 0.5930 - acc: 0.7839 - val_loss: 0.4109 - val_acc: 0.8898\n",
            "Epoch 33/50\n",
            "25/24 [==============================] - 94s 4s/step - loss: 0.5487 - acc: 0.8122 - val_loss: 0.5273 - val_acc: 0.8432\n",
            "Epoch 34/50\n",
            "25/24 [==============================] - 92s 4s/step - loss: 0.5644 - acc: 0.8006 - val_loss: 0.6920 - val_acc: 0.8538\n",
            "Epoch 35/50\n",
            "25/24 [==============================] - 95s 4s/step - loss: 0.5828 - acc: 0.7945 - val_loss: 0.5101 - val_acc: 0.8559\n",
            "Epoch 36/50\n",
            "25/24 [==============================] - 94s 4s/step - loss: 0.5900 - acc: 0.7989 - val_loss: 0.4228 - val_acc: 0.8665\n",
            "Epoch 37/50\n",
            "25/24 [==============================] - 96s 4s/step - loss: 0.5573 - acc: 0.8017 - val_loss: 0.6551 - val_acc: 0.8242\n",
            "Epoch 38/50\n",
            "25/24 [==============================] - 96s 4s/step - loss: 0.6482 - acc: 0.7900 - val_loss: 0.4895 - val_acc: 0.8602\n",
            "Epoch 39/50\n",
            "25/24 [==============================] - 95s 4s/step - loss: 0.5458 - acc: 0.8144 - val_loss: 0.3807 - val_acc: 0.8814\n",
            "Epoch 40/50\n",
            "25/24 [==============================] - 96s 4s/step - loss: 0.5104 - acc: 0.8061 - val_loss: 0.4193 - val_acc: 0.8919\n",
            "Epoch 41/50\n",
            "25/24 [==============================] - 97s 4s/step - loss: 0.4996 - acc: 0.8450 - val_loss: 0.7455 - val_acc: 0.8220\n",
            "Epoch 42/50\n",
            "25/24 [==============================] - 98s 4s/step - loss: 0.6003 - acc: 0.8006 - val_loss: 0.4721 - val_acc: 0.8644\n",
            "Epoch 43/50\n",
            "25/24 [==============================] - 95s 4s/step - loss: 0.4998 - acc: 0.8345 - val_loss: 0.4626 - val_acc: 0.8750\n",
            "Epoch 44/50\n",
            "25/24 [==============================] - 93s 4s/step - loss: 0.4480 - acc: 0.8406 - val_loss: 0.4649 - val_acc: 0.8792\n",
            "Epoch 45/50\n",
            "25/24 [==============================] - 93s 4s/step - loss: 0.4729 - acc: 0.8278 - val_loss: 0.4145 - val_acc: 0.8856\n",
            "Epoch 46/50\n",
            "25/24 [==============================] - 92s 4s/step - loss: 0.4782 - acc: 0.8256 - val_loss: 0.3993 - val_acc: 0.8983\n",
            "Epoch 47/50\n",
            "25/24 [==============================] - 95s 4s/step - loss: 0.4924 - acc: 0.8328 - val_loss: 0.4574 - val_acc: 0.8708\n",
            "Epoch 48/50\n",
            "25/24 [==============================] - 93s 4s/step - loss: 0.4390 - acc: 0.8473 - val_loss: 0.3616 - val_acc: 0.8898\n",
            "Epoch 49/50\n",
            "25/24 [==============================] - 95s 4s/step - loss: 0.4629 - acc: 0.8239 - val_loss: 0.6029 - val_acc: 0.8623\n",
            "Epoch 50/50\n",
            "25/24 [==============================] - 93s 4s/step - loss: 0.4985 - acc: 0.8378 - val_loss: 0.3711 - val_acc: 0.8983\n"
          ],
          "name": "stdout"
        }
      ]
    },
    {
      "cell_type": "code",
      "metadata": {
        "id": "BjvNbovWLz_B",
        "colab_type": "code",
        "outputId": "d75a28e9-c59d-43a3-f1c9-75fd9bf49021",
        "colab": {
          "base_uri": "https://localhost:8080/",
          "height": 545
        }
      },
      "source": [
        "# Plot the accuracy and loss curves\n",
        "acc = history.history['acc']\n",
        "val_acc = history.history['val_acc']\n",
        "loss = history.history['loss']\n",
        "val_loss = history.history['val_loss']\n",
        "\n",
        "epochs = range(len(acc))\n",
        "\n",
        "plt.plot(epochs, acc, 'b', label='Training acc')\n",
        "plt.plot(epochs, val_acc, 'r', label='Test acc')\n",
        "plt.title('Training and test accuracy')\n",
        "plt.legend()\n",
        "\n",
        "plt.figure()\n",
        "\n",
        "plt.plot(epochs, loss, 'b', label='Training loss')\n",
        "plt.plot(epochs, val_loss, 'r', label='Test loss')\n",
        "plt.title('Training and test loss')\n",
        "plt.legend()\n",
        "\n",
        "plt.show()"
      ],
      "execution_count": 0,
      "outputs": [
        {
          "output_type": "display_data",
          "data": {
            "image/png": "[encoded data removed]",
            "text/plain": [
              "<Figure size 432x288 with 1 Axes>"
            ]
          },
          "metadata": {
            "tags": []
          }
        },
        {
          "output_type": "display_data",
          "data": {
            "image/png": "[encoded data removed]",
            "text/plain": [
              "<Figure size 432x288 with 1 Axes>"
            ]
          },
          "metadata": {
            "tags": []
          }
        }
      ]
    },
    {
      "cell_type": "markdown",
      "metadata": {
        "id": "OGAGbqclwTma",
        "colab_type": "text"
      },
      "source": [
        "**VGG-19**"
      ]
    },
    {
      "cell_type": "code",
      "metadata": {
        "id": "8ihppz-0L0Dp",
        "colab_type": "code",
        "outputId": "67806950-e829-4e59-a7a4-1a8b1a726db4",
        "colab": {
          "base_uri": "https://localhost:8080/",
          "height": 1243
        }
      },
      "source": [
        "from keras.applications import VGG19\n",
        "vgg = VGG19(weights='imagenet',include_top=False,input_shape=(64,64,3))\n",
        "vgg_conv=Sequential()\n",
        "for layer in vgg.layers:\n",
        "  vgg_conv.add(layer)\n",
        "for layer in vgg_conv.layers[:-4]:\n",
        "    layer.trainable = False\n",
        "for layer in vgg_conv.layers:\n",
        "  print(layer, layer.trainable)\n",
        "vgg_conv.summary()\n",
        "model= vgg_conv"
      ],
      "execution_count": 0,
      "outputs": [
        {
          "output_type": "stream",
          "text": [
            "Downloading data from https://github.com/fchollet/deep-learning-models/releases/download/v0.1/vgg19_weights_tf_dim_ordering_tf_kernels_notop.h5\n",
            "80142336/80134624 [==============================] - 6s 0us/step\n",
            "<keras.layers.convolutional.Conv2D object at 0x7f06101e9c50> False\n",
            "<keras.layers.convolutional.Conv2D object at 0x7f0610242f60> False\n",
            "<keras.layers.pooling.MaxPooling2D object at 0x7f061013e6d8> False\n",
            "<keras.layers.convolutional.Conv2D object at 0x7f06101dc3c8> False\n",
            "<keras.layers.convolutional.Conv2D object at 0x7f06101d5278> False\n",
            "<keras.layers.pooling.MaxPooling2D object at 0x7f0610011748> False\n",
            "<keras.layers.convolutional.Conv2D object at 0x7f0610024978> False\n",
            "<keras.layers.convolutional.Conv2D object at 0x7f06100291d0> False\n",
            "<keras.layers.convolutional.Conv2D object at 0x7f061002d5c0> False\n",
            "<keras.layers.convolutional.Conv2D object at 0x7f0610032860> False\n",
            "<keras.layers.pooling.MaxPooling2D object at 0x7f061003f358> False\n",
            "<keras.layers.convolutional.Conv2D object at 0x7f06100468d0> False\n",
            "<keras.layers.convolutional.Conv2D object at 0x7f060ffcc9e8> False\n",
            "<keras.layers.convolutional.Conv2D object at 0x7f060ffd2748> False\n",
            "<keras.layers.convolutional.Conv2D object at 0x7f060ffde1d0> False\n",
            "<keras.layers.pooling.MaxPooling2D object at 0x7f060ffe5b70> False\n",
            "<keras.layers.convolutional.Conv2D object at 0x7f060fff3a20> False\n",
            "<keras.layers.convolutional.Conv2D object at 0x7f060fff92b0> True\n",
            "<keras.layers.convolutional.Conv2D object at 0x7f06100005c0> True\n",
            "<keras.layers.convolutional.Conv2D object at 0x7f0610006908> True\n",
            "<keras.layers.pooling.MaxPooling2D object at 0x7f060ff95438> True\n",
            "Model: \"sequential_10\"\n",
            "_________________________________________________________________\n",
            "Layer (type)                 Output Shape              Param #   \n",
            "=================================================================\n",
            "block1_conv1 (Conv2D)        (None, 64, 64, 64)        1792      \n",
            "_________________________________________________________________\n",
            "block1_conv2 (Conv2D)        (None, 64, 64, 64)        36928     \n",
            "_________________________________________________________________\n",
            "block1_pool (MaxPooling2D)   (None, 32, 32, 64)        0         \n",
            "_________________________________________________________________\n",
            "block2_conv1 (Conv2D)        (None, 32, 32, 128)       73856     \n",
            "_________________________________________________________________\n",
            "block2_conv2 (Conv2D)        (None, 32, 32, 128)       147584    \n",
            "_________________________________________________________________\n",
            "block2_pool (MaxPooling2D)   (None, 16, 16, 128)       0         \n",
            "_________________________________________________________________\n",
            "block3_conv1 (Conv2D)        (None, 16, 16, 256)       295168    \n",
            "_________________________________________________________________\n",
            "block3_conv2 (Conv2D)        (None, 16, 16, 256)       590080    \n",
            "_________________________________________________________________\n",
            "block3_conv3 (Conv2D)        (None, 16, 16, 256)       590080    \n",
            "_________________________________________________________________\n",
            "block3_conv4 (Conv2D)        (None, 16, 16, 256)       590080    \n",
            "_________________________________________________________________\n",
            "block3_pool (MaxPooling2D)   (None, 8, 8, 256)         0         \n",
            "_________________________________________________________________\n",
            "block4_conv1 (Conv2D)        (None, 8, 8, 512)         1180160   \n",
            "_________________________________________________________________\n",
            "block4_conv2 (Conv2D)        (None, 8, 8, 512)         2359808   \n",
            "_________________________________________________________________\n",
            "block4_conv3 (Conv2D)        (None, 8, 8, 512)         2359808   \n",
            "_________________________________________________________________\n",
            "block4_conv4 (Conv2D)        (None, 8, 8, 512)         2359808   \n",
            "_________________________________________________________________\n",
            "block4_pool (MaxPooling2D)   (None, 4, 4, 512)         0         \n",
            "_________________________________________________________________\n",
            "block5_conv1 (Conv2D)        (None, 4, 4, 512)         2359808   \n",
            "_________________________________________________________________\n",
            "block5_conv2 (Conv2D)        (None, 4, 4, 512)         2359808   \n",
            "_________________________________________________________________\n",
            "block5_conv3 (Conv2D)        (None, 4, 4, 512)         2359808   \n",
            "_________________________________________________________________\n",
            "block5_conv4 (Conv2D)        (None, 4, 4, 512)         2359808   \n",
            "_________________________________________________________________\n",
            "block5_pool (MaxPooling2D)   (None, 2, 2, 512)         0         \n",
            "=================================================================\n",
            "Total params: 20,024,384\n",
            "Trainable params: 7,079,424\n",
            "Non-trainable params: 12,944,960\n",
            "_________________________________________________________________\n"
          ],
          "name": "stdout"
        }
      ]
    },
    {
      "cell_type": "code",
      "metadata": {
        "id": "y4xBoaI_L0GH",
        "colab_type": "code",
        "colab": {}
      },
      "source": [
        "vgg_conv.add(Flatten())\n",
        "vgg_conv.add(Dense(1024, activation='relu'))\n",
        "vgg_conv.add(Dropout(0.5))\n",
        "vgg_conv.add(Dense(1024, activation='relu'))\n",
        "vgg_conv.add(Dense(1024, activation='relu'))\n",
        "vgg_conv.add(Dense(30, activation= tf.nn.softmax))"
      ],
      "execution_count": 0,
      "outputs": []
    },
    {
      "cell_type": "code",
      "metadata": {
        "id": "gcuRgP7PL0IL",
        "colab_type": "code",
        "outputId": "2b7540dc-398d-4eab-ffbe-f8afb8f14f58",
        "colab": {
          "base_uri": "https://localhost:8080/",
          "height": 1697
        }
      },
      "source": [
        "# Compile the model\n",
        "vgg_conv.compile(loss='categorical_crossentropy',\n",
        "              optimizer=optimizers.Adam(lr=1e-4),\n",
        "              metrics=['acc'])\n",
        "\n",
        "# Train the Model\n",
        "history = vgg_conv.fit_generator(\n",
        "      train_generator,\n",
        "      steps_per_epoch=train_generator.samples/train_generator.batch_size ,\n",
        "      epochs=50,\n",
        "      validation_data=val_generator,\n",
        "      validation_steps=val_generator.samples/val_generator.batch_size,\n",
        "      verbose=1)"
      ],
      "execution_count": 0,
      "outputs": [
        {
          "output_type": "stream",
          "text": [
            "Epoch 1/50\n",
            "25/24 [==============================] - 117s 5s/step - loss: 3.3339 - acc: 0.0623 - val_loss: 3.1423 - val_acc: 0.1229\n",
            "Epoch 2/50\n",
            "25/24 [==============================] - 108s 4s/step - loss: 3.0464 - acc: 0.1350 - val_loss: 2.6571 - val_acc: 0.2627\n",
            "Epoch 3/50\n",
            "25/24 [==============================] - 107s 4s/step - loss: 2.6569 - acc: 0.2167 - val_loss: 2.2046 - val_acc: 0.3623\n",
            "Epoch 4/50\n",
            "25/24 [==============================] - 108s 4s/step - loss: 2.3783 - acc: 0.2950 - val_loss: 1.7319 - val_acc: 0.4364\n",
            "Epoch 5/50\n",
            "25/24 [==============================] - 108s 4s/step - loss: 2.1106 - acc: 0.3177 - val_loss: 1.4685 - val_acc: 0.5191\n",
            "Epoch 6/50\n",
            "25/24 [==============================] - 108s 4s/step - loss: 1.8789 - acc: 0.4016 - val_loss: 1.5447 - val_acc: 0.5085\n",
            "Epoch 7/50\n",
            "25/24 [==============================] - 110s 4s/step - loss: 1.8180 - acc: 0.4123 - val_loss: 1.2480 - val_acc: 0.5720\n",
            "Epoch 8/50\n",
            "25/24 [==============================] - 109s 4s/step - loss: 1.7802 - acc: 0.4261 - val_loss: 1.3032 - val_acc: 0.5826\n",
            "Epoch 9/50\n",
            "25/24 [==============================] - 110s 4s/step - loss: 1.4952 - acc: 0.5039 - val_loss: 1.2590 - val_acc: 0.6038\n",
            "Epoch 10/50\n",
            "25/24 [==============================] - 110s 4s/step - loss: 1.4490 - acc: 0.5328 - val_loss: 1.1304 - val_acc: 0.6547\n",
            "Epoch 11/50\n",
            "25/24 [==============================] - 110s 4s/step - loss: 1.3532 - acc: 0.5294 - val_loss: 1.4809 - val_acc: 0.5805\n",
            "Epoch 12/50\n",
            "25/24 [==============================] - 111s 4s/step - loss: 1.4531 - acc: 0.5257 - val_loss: 0.9849 - val_acc: 0.6780\n",
            "Epoch 13/50\n",
            "25/24 [==============================] - 110s 4s/step - loss: 1.3303 - acc: 0.5633 - val_loss: 0.9197 - val_acc: 0.7097\n",
            "Epoch 14/50\n",
            "25/24 [==============================] - 109s 4s/step - loss: 1.2827 - acc: 0.5895 - val_loss: 0.9358 - val_acc: 0.7161\n",
            "Epoch 15/50\n",
            "25/24 [==============================] - 109s 4s/step - loss: 1.2156 - acc: 0.5800 - val_loss: 0.9684 - val_acc: 0.7246\n",
            "Epoch 16/50\n",
            "25/24 [==============================] - 109s 4s/step - loss: 1.1590 - acc: 0.6056 - val_loss: 1.0844 - val_acc: 0.7076\n",
            "Epoch 17/50\n",
            "25/24 [==============================] - 108s 4s/step - loss: 1.1695 - acc: 0.6067 - val_loss: 1.0247 - val_acc: 0.6992\n",
            "Epoch 18/50\n",
            "25/24 [==============================] - 107s 4s/step - loss: 1.1345 - acc: 0.6050 - val_loss: 0.8836 - val_acc: 0.7500\n",
            "Epoch 19/50\n",
            "25/24 [==============================] - 107s 4s/step - loss: 1.1500 - acc: 0.6177 - val_loss: 0.7638 - val_acc: 0.7797\n",
            "Epoch 20/50\n",
            "25/24 [==============================] - 107s 4s/step - loss: 1.0195 - acc: 0.6667 - val_loss: 0.8904 - val_acc: 0.7521\n",
            "Epoch 21/50\n",
            "25/24 [==============================] - 107s 4s/step - loss: 1.0063 - acc: 0.6600 - val_loss: 0.8807 - val_acc: 0.7225\n",
            "Epoch 22/50\n",
            "25/24 [==============================] - 108s 4s/step - loss: 1.1109 - acc: 0.6211 - val_loss: 1.0051 - val_acc: 0.7182\n",
            "Epoch 23/50\n",
            "25/24 [==============================] - 109s 4s/step - loss: 1.0983 - acc: 0.6162 - val_loss: 0.9137 - val_acc: 0.7415\n",
            "Epoch 24/50\n",
            "25/24 [==============================] - 110s 4s/step - loss: 1.0153 - acc: 0.6566 - val_loss: 0.9913 - val_acc: 0.7288\n",
            "Epoch 25/50\n",
            "25/24 [==============================] - 110s 4s/step - loss: 1.0163 - acc: 0.6594 - val_loss: 1.0968 - val_acc: 0.7225\n",
            "Epoch 26/50\n",
            "25/24 [==============================] - 108s 4s/step - loss: 1.0268 - acc: 0.6672 - val_loss: 0.7956 - val_acc: 0.7521\n",
            "Epoch 27/50\n",
            "25/24 [==============================] - 110s 4s/step - loss: 0.9283 - acc: 0.6855 - val_loss: 0.8223 - val_acc: 0.7352\n",
            "Epoch 28/50\n",
            "25/24 [==============================] - 108s 4s/step - loss: 0.9441 - acc: 0.6761 - val_loss: 0.9135 - val_acc: 0.7479\n",
            "Epoch 29/50\n",
            "25/24 [==============================] - 110s 4s/step - loss: 0.8668 - acc: 0.7028 - val_loss: 0.8016 - val_acc: 0.7881\n",
            "Epoch 30/50\n",
            "25/24 [==============================] - 108s 4s/step - loss: 0.9349 - acc: 0.6844 - val_loss: 0.9275 - val_acc: 0.7394\n",
            "Epoch 31/50\n",
            "25/24 [==============================] - 109s 4s/step - loss: 0.9283 - acc: 0.6900 - val_loss: 1.0184 - val_acc: 0.7161\n",
            "Epoch 32/50\n",
            "25/24 [==============================] - 108s 4s/step - loss: 0.8900 - acc: 0.6966 - val_loss: 0.8871 - val_acc: 0.7627\n",
            "Epoch 33/50\n",
            "25/24 [==============================] - 107s 4s/step - loss: 0.8827 - acc: 0.7050 - val_loss: 0.8969 - val_acc: 0.7754\n",
            "Epoch 34/50\n",
            "25/24 [==============================] - 107s 4s/step - loss: 0.9021 - acc: 0.7028 - val_loss: 0.7624 - val_acc: 0.7818\n",
            "Epoch 35/50\n",
            "25/24 [==============================] - 107s 4s/step - loss: 0.8201 - acc: 0.7194 - val_loss: 0.7821 - val_acc: 0.7648\n",
            "Epoch 36/50\n",
            "25/24 [==============================] - 106s 4s/step - loss: 0.7969 - acc: 0.7267 - val_loss: 0.6881 - val_acc: 0.8030\n",
            "Epoch 37/50\n",
            "25/24 [==============================] - 107s 4s/step - loss: 0.8134 - acc: 0.7311 - val_loss: 0.6228 - val_acc: 0.8072\n",
            "Epoch 38/50\n",
            "25/24 [==============================] - 106s 4s/step - loss: 0.8100 - acc: 0.7279 - val_loss: 0.6941 - val_acc: 0.8136\n",
            "Epoch 39/50\n",
            "25/24 [==============================] - 105s 4s/step - loss: 0.8057 - acc: 0.7300 - val_loss: 0.6418 - val_acc: 0.8242\n",
            "Epoch 40/50\n",
            "25/24 [==============================] - 108s 4s/step - loss: 0.7206 - acc: 0.7416 - val_loss: 0.8540 - val_acc: 0.7775\n",
            "Epoch 41/50\n",
            "25/24 [==============================] - 108s 4s/step - loss: 0.7566 - acc: 0.7355 - val_loss: 0.6926 - val_acc: 0.8284\n",
            "Epoch 42/50\n",
            "25/24 [==============================] - 109s 4s/step - loss: 0.7730 - acc: 0.7423 - val_loss: 0.7142 - val_acc: 0.7966\n",
            "Epoch 43/50\n",
            "25/24 [==============================] - 108s 4s/step - loss: 0.8064 - acc: 0.7355 - val_loss: 0.6395 - val_acc: 0.8051\n",
            "Epoch 44/50\n",
            "25/24 [==============================] - 110s 4s/step - loss: 0.7771 - acc: 0.7416 - val_loss: 0.8034 - val_acc: 0.7712\n",
            "Epoch 45/50\n",
            "25/24 [==============================] - 110s 4s/step - loss: 0.8252 - acc: 0.7428 - val_loss: 0.7477 - val_acc: 0.7669\n",
            "Epoch 46/50\n",
            "25/24 [==============================] - 109s 4s/step - loss: 0.6844 - acc: 0.7767 - val_loss: 0.9234 - val_acc: 0.7860\n",
            "Epoch 47/50\n",
            "25/24 [==============================] - 106s 4s/step - loss: 0.7899 - acc: 0.7273 - val_loss: 0.8508 - val_acc: 0.7712\n",
            "Epoch 48/50\n",
            "25/24 [==============================] - 106s 4s/step - loss: 0.7233 - acc: 0.7500 - val_loss: 0.6888 - val_acc: 0.7987\n",
            "Epoch 49/50\n",
            "25/24 [==============================] - 105s 4s/step - loss: 0.6911 - acc: 0.7527 - val_loss: 0.6213 - val_acc: 0.8136\n",
            "Epoch 50/50\n",
            "25/24 [==============================] - 106s 4s/step - loss: 0.7785 - acc: 0.7140 - val_loss: 0.6714 - val_acc: 0.8242\n"
          ],
          "name": "stdout"
        }
      ]
    },
    {
      "cell_type": "code",
      "metadata": {
        "id": "s-FBR7P9j9ZJ",
        "colab_type": "code",
        "outputId": "f1324515-6863-4a73-9804-9a3e2798d61c",
        "colab": {
          "base_uri": "https://localhost:8080/",
          "height": 545
        }
      },
      "source": [
        "# Plot the accuracy and loss curves\n",
        "acc = history.history['acc']\n",
        "val_acc = history.history['val_acc']\n",
        "loss = history.history['loss']\n",
        "val_loss = history.history['val_loss']\n",
        "\n",
        "epochs = range(len(acc))\n",
        "\n",
        "plt.plot(epochs, acc, 'b', label='Training acc')\n",
        "plt.plot(epochs, val_acc, 'r', label='Test acc')\n",
        "plt.title('Training and test accuracy')\n",
        "plt.legend()\n",
        "\n",
        "plt.figure()\n",
        "\n",
        "plt.plot(epochs, loss, 'b', label='Training loss')\n",
        "plt.plot(epochs, val_loss, 'r', label='Test loss')\n",
        "plt.title('Training and test loss')\n",
        "plt.legend()\n",
        "plt.show()"
      ],
      "execution_count": 0,
      "outputs": [
        {
          "output_type": "display_data",
          "data": {
            "image/png": "[encoded data removed]",
            "text/plain": [
              "<Figure size 432x288 with 1 Axes>"
            ]
          },
          "metadata": {
            "tags": []
          }
        },
        {
          "output_type": "display_data",
          "data": {
            "image/png": "[encoded data removed]",
            "text/plain": [
              "<Figure size 432x288 with 1 Axes>"
            ]
          },
          "metadata": {
            "tags": []
          }
        }
      ]
    },
    {
      "cell_type": "markdown",
      "metadata": {
        "id": "2QohMx6wQDY9",
        "colab_type": "text"
      },
      "source": [
        "**Le-Net Model**"
      ]
    },
    {
      "cell_type": "markdown",
      "metadata": {
        "id": "Ye2WHjt8ukWh",
        "colab_type": "text"
      },
      "source": [
        "![alt text](https://drive.google.com/uc?id=164jWoclOrqtwIHAj1YcPeB7M8Wv_vWnj)"
      ]
    },
    {
      "cell_type": "markdown",
      "metadata": {
        "id": "vLWfybpMuort",
        "colab_type": "text"
      },
      "source": [
        "Image Credits\n",
        "\n",
        "\n",
        "*   http://yann.lecun.com/exdb/publis/pdf/lecun-01a.pdf\n",
        "*   Authors: Yann Lecun, Leon Bottou, Yoshua Bengio, Patrick Haffner\n",
        "\n"
      ]
    },
    {
      "cell_type": "code",
      "metadata": {
        "id": "T93rU6KqJgdT",
        "colab_type": "code",
        "colab": {}
      },
      "source": [
        "# Import train_test_split from scikit library\n",
        "\n",
        "from keras.models import Sequential\n",
        "from keras.layers import Conv2D, MaxPooling2D, AveragePooling2D, Dense, Flatten, Dropout\n",
        "from keras.optimizers import Adam\n",
        "from keras.callbacks import TensorBoard\n",
        "from sklearn.model_selection import train_test_split\n",
        "cnn_model = Sequential()\n",
        "cnn_model.add(Conv2D(filters=6, kernel_size=(5, 5),strides=2, activation='relu', input_shape=(64,64,3)))\n",
        "cnn_model.add(AveragePooling2D())\n",
        "cnn_model.add(Conv2D(filters=16, kernel_size=(5, 5), activation='relu'))\n",
        "cnn_model.add(AveragePooling2D())\n",
        "cnn_model.add(Flatten())\n",
        "cnn_model.add(Dense(units=120, activation='relu'))\n",
        "cnn_model.add(Dense(units=84, activation='relu'))\n",
        "cnn_model.add(Dense(units=30, activation = 'softmax'))\n"
      ],
      "execution_count": 0,
      "outputs": []
    },
    {
      "cell_type": "code",
      "metadata": {
        "id": "8uKkHpwYQSMt",
        "colab_type": "code",
        "outputId": "c5f74483-70bc-46d2-836e-56b6ac372561",
        "colab": {
          "base_uri": "https://localhost:8080/",
          "height": 1697
        }
      },
      "source": [
        "cnn_model.compile(loss='categorical_crossentropy',\n",
        "              optimizer=optimizers.Adam(lr=1e-4),\n",
        "              metrics=['acc'])\n",
        "\n",
        "history = cnn_model.fit_generator(\n",
        "      train_generator,\n",
        "      steps_per_epoch=train_generator.samples/train_generator.batch_size ,\n",
        "      epochs=50,\n",
        "      validation_data=val_generator,\n",
        "      validation_steps=val_generator.samples/val_generator.batch_size,\n",
        "      verbose=1)"
      ],
      "execution_count": 0,
      "outputs": [
        {
          "output_type": "stream",
          "text": [
            "Epoch 1/50\n",
            "25/24 [==============================] - 32s 1s/step - loss: 3.2966 - acc: 0.0777 - val_loss: 3.2798 - val_acc: 0.0869\n",
            "Epoch 2/50\n",
            "25/24 [==============================] - 24s 959ms/step - loss: 3.2779 - acc: 0.0872 - val_loss: 3.2801 - val_acc: 0.0890\n",
            "Epoch 3/50\n",
            "25/24 [==============================] - 25s 986ms/step - loss: 3.2636 - acc: 0.0933 - val_loss: 3.2594 - val_acc: 0.0826\n",
            "Epoch 4/50\n",
            "25/24 [==============================] - 24s 955ms/step - loss: 3.2443 - acc: 0.0933 - val_loss: 3.2301 - val_acc: 0.0911\n",
            "Epoch 5/50\n",
            "25/24 [==============================] - 24s 966ms/step - loss: 3.2385 - acc: 0.0939 - val_loss: 3.2370 - val_acc: 0.0869\n",
            "Epoch 6/50\n",
            "25/24 [==============================] - 24s 970ms/step - loss: 3.2143 - acc: 0.1056 - val_loss: 3.1994 - val_acc: 0.0826\n",
            "Epoch 7/50\n",
            "25/24 [==============================] - 24s 961ms/step - loss: 3.1992 - acc: 0.0961 - val_loss: 3.1651 - val_acc: 0.0720\n",
            "Epoch 8/50\n",
            "25/24 [==============================] - 24s 964ms/step - loss: 3.1908 - acc: 0.1061 - val_loss: 3.1802 - val_acc: 0.0720\n",
            "Epoch 9/50\n",
            "25/24 [==============================] - 24s 956ms/step - loss: 3.1640 - acc: 0.0956 - val_loss: 3.1354 - val_acc: 0.0826\n",
            "Epoch 10/50\n",
            "25/24 [==============================] - 24s 949ms/step - loss: 3.1440 - acc: 0.0905 - val_loss: 3.1665 - val_acc: 0.0720\n",
            "Epoch 11/50\n",
            "25/24 [==============================] - 24s 970ms/step - loss: 3.1294 - acc: 0.0989 - val_loss: 3.1607 - val_acc: 0.0720\n",
            "Epoch 12/50\n",
            "25/24 [==============================] - 24s 951ms/step - loss: 3.1261 - acc: 0.0883 - val_loss: 3.1154 - val_acc: 0.0742\n",
            "Epoch 13/50\n",
            "25/24 [==============================] - 24s 944ms/step - loss: 3.1056 - acc: 0.0839 - val_loss: 3.1098 - val_acc: 0.0847\n",
            "Epoch 14/50\n",
            "25/24 [==============================] - 24s 954ms/step - loss: 3.1034 - acc: 0.1022 - val_loss: 3.1075 - val_acc: 0.0869\n",
            "Epoch 15/50\n",
            "25/24 [==============================] - 24s 953ms/step - loss: 3.0851 - acc: 0.1066 - val_loss: 3.0677 - val_acc: 0.0932\n",
            "Epoch 16/50\n",
            "25/24 [==============================] - 24s 955ms/step - loss: 3.0869 - acc: 0.1067 - val_loss: 3.0479 - val_acc: 0.0869\n",
            "Epoch 17/50\n",
            "25/24 [==============================] - 24s 959ms/step - loss: 3.0743 - acc: 0.0989 - val_loss: 3.0458 - val_acc: 0.0869\n",
            "Epoch 18/50\n",
            "25/24 [==============================] - 24s 952ms/step - loss: 3.0562 - acc: 0.0961 - val_loss: 3.0612 - val_acc: 0.0975\n",
            "Epoch 19/50\n",
            "25/24 [==============================] - 24s 945ms/step - loss: 3.0360 - acc: 0.1045 - val_loss: 3.0243 - val_acc: 0.0826\n",
            "Epoch 20/50\n",
            "25/24 [==============================] - 24s 943ms/step - loss: 3.0290 - acc: 0.1056 - val_loss: 2.9952 - val_acc: 0.0975\n",
            "Epoch 21/50\n",
            "25/24 [==============================] - 24s 955ms/step - loss: 3.0426 - acc: 0.0944 - val_loss: 3.0057 - val_acc: 0.0869\n",
            "Epoch 22/50\n",
            "25/24 [==============================] - 24s 943ms/step - loss: 3.0426 - acc: 0.0889 - val_loss: 3.0387 - val_acc: 0.0975\n",
            "Epoch 23/50\n",
            "25/24 [==============================] - 24s 950ms/step - loss: 3.0111 - acc: 0.1150 - val_loss: 2.9608 - val_acc: 0.0869\n",
            "Epoch 24/50\n",
            "25/24 [==============================] - 24s 974ms/step - loss: 3.0286 - acc: 0.1028 - val_loss: 2.9328 - val_acc: 0.1017\n",
            "Epoch 25/50\n",
            "25/24 [==============================] - 24s 966ms/step - loss: 3.0154 - acc: 0.1028 - val_loss: 2.9728 - val_acc: 0.0911\n",
            "Epoch 26/50\n",
            "25/24 [==============================] - 24s 958ms/step - loss: 3.0110 - acc: 0.1111 - val_loss: 2.9146 - val_acc: 0.0996\n",
            "Epoch 27/50\n",
            "25/24 [==============================] - 24s 956ms/step - loss: 2.9937 - acc: 0.1017 - val_loss: 2.9466 - val_acc: 0.0996\n",
            "Epoch 28/50\n",
            "25/24 [==============================] - 24s 966ms/step - loss: 3.0110 - acc: 0.0916 - val_loss: 2.9296 - val_acc: 0.1335\n",
            "Epoch 29/50\n",
            "25/24 [==============================] - 24s 962ms/step - loss: 2.9986 - acc: 0.1255 - val_loss: 2.8756 - val_acc: 0.1462\n",
            "Epoch 30/50\n",
            "25/24 [==============================] - 24s 970ms/step - loss: 2.9817 - acc: 0.1155 - val_loss: 2.9020 - val_acc: 0.1419\n",
            "Epoch 31/50\n",
            "25/24 [==============================] - 24s 977ms/step - loss: 2.9816 - acc: 0.1138 - val_loss: 2.8659 - val_acc: 0.1314\n",
            "Epoch 32/50\n",
            "25/24 [==============================] - 24s 965ms/step - loss: 2.9796 - acc: 0.1117 - val_loss: 2.8960 - val_acc: 0.1314\n",
            "Epoch 33/50\n",
            "25/24 [==============================] - 24s 970ms/step - loss: 2.9817 - acc: 0.1045 - val_loss: 2.8957 - val_acc: 0.1525\n",
            "Epoch 34/50\n",
            "25/24 [==============================] - 24s 963ms/step - loss: 2.9587 - acc: 0.1278 - val_loss: 2.8365 - val_acc: 0.1398\n",
            "Epoch 35/50\n",
            "25/24 [==============================] - 24s 961ms/step - loss: 2.9719 - acc: 0.1106 - val_loss: 2.8029 - val_acc: 0.1547\n",
            "Epoch 36/50\n",
            "25/24 [==============================] - 24s 965ms/step - loss: 2.9700 - acc: 0.1106 - val_loss: 2.8163 - val_acc: 0.1483\n",
            "Epoch 37/50\n",
            "25/24 [==============================] - 24s 977ms/step - loss: 2.9571 - acc: 0.1234 - val_loss: 2.8878 - val_acc: 0.1314\n",
            "Epoch 38/50\n",
            "25/24 [==============================] - 24s 954ms/step - loss: 2.9782 - acc: 0.1139 - val_loss: 2.9005 - val_acc: 0.1292\n",
            "Epoch 39/50\n",
            "25/24 [==============================] - 24s 961ms/step - loss: 2.9784 - acc: 0.1195 - val_loss: 2.8106 - val_acc: 0.1335\n",
            "Epoch 40/50\n",
            "25/24 [==============================] - 24s 957ms/step - loss: 2.9545 - acc: 0.1022 - val_loss: 2.7680 - val_acc: 0.1525\n",
            "Epoch 41/50\n",
            "25/24 [==============================] - 24s 975ms/step - loss: 2.9495 - acc: 0.1245 - val_loss: 2.8190 - val_acc: 0.1419\n",
            "Epoch 42/50\n",
            "25/24 [==============================] - 25s 994ms/step - loss: 2.9352 - acc: 0.1233 - val_loss: 2.8583 - val_acc: 0.1314\n",
            "Epoch 43/50\n",
            "25/24 [==============================] - 25s 986ms/step - loss: 2.9611 - acc: 0.1089 - val_loss: 2.8093 - val_acc: 0.1419\n",
            "Epoch 44/50\n",
            "25/24 [==============================] - 24s 975ms/step - loss: 2.9233 - acc: 0.1378 - val_loss: 2.9029 - val_acc: 0.1292\n",
            "Epoch 45/50\n",
            "25/24 [==============================] - 25s 983ms/step - loss: 2.9280 - acc: 0.1189 - val_loss: 2.8285 - val_acc: 0.1292\n",
            "Epoch 46/50\n",
            "25/24 [==============================] - 24s 974ms/step - loss: 2.9405 - acc: 0.1133 - val_loss: 2.7972 - val_acc: 0.1356\n",
            "Epoch 47/50\n",
            "25/24 [==============================] - 24s 976ms/step - loss: 2.9264 - acc: 0.1328 - val_loss: 2.8030 - val_acc: 0.1398\n",
            "Epoch 48/50\n",
            "25/24 [==============================] - 24s 975ms/step - loss: 2.9025 - acc: 0.1161 - val_loss: 2.8084 - val_acc: 0.1398\n",
            "Epoch 49/50\n",
            "25/24 [==============================] - 24s 968ms/step - loss: 2.9408 - acc: 0.1301 - val_loss: 2.7649 - val_acc: 0.1504\n",
            "Epoch 50/50\n",
            "25/24 [==============================] - 24s 978ms/step - loss: 2.9159 - acc: 0.1311 - val_loss: 2.8051 - val_acc: 0.1504\n"
          ],
          "name": "stdout"
        }
      ]
    },
    {
      "cell_type": "code",
      "metadata": {
        "id": "UasmWAq4Qm1l",
        "colab_type": "code",
        "outputId": "1ea92d05-47c8-419c-8cba-87f8494a982a",
        "colab": {
          "base_uri": "https://localhost:8080/",
          "height": 545
        }
      },
      "source": [
        "# Plot the accuracy and loss curves\n",
        "acc = history.history['acc']\n",
        "val_acc = history.history['val_acc']\n",
        "loss = history.history['loss']\n",
        "val_loss = history.history['val_loss']\n",
        "\n",
        "epochs = range(len(acc))\n",
        "\n",
        "plt.plot(epochs, acc, 'b', label='Training acc')\n",
        "plt.plot(epochs, val_acc, 'r', label='Test acc')\n",
        "plt.title('Training and test accuracy')\n",
        "plt.legend()\n",
        "\n",
        "plt.figure()\n",
        "\n",
        "plt.plot(epochs, loss, 'b', label='Training loss')\n",
        "plt.plot(epochs, val_loss, 'r', label='Test loss')\n",
        "plt.title('Training and test loss')\n",
        "plt.legend()\n",
        "plt.show()"
      ],
      "execution_count": 0,
      "outputs": [
        {
          "output_type": "display_data",
          "data": {
            "image/png": "[encoded data removed]",
            "text/plain": [
              "<Figure size 432x288 with 1 Axes>"
            ]
          },
          "metadata": {
            "tags": []
          }
        },
        {
          "output_type": "display_data",
          "data": {
            "image/png": "[encoded data removed]",
            "text/plain": [
              "<Figure size 432x288 with 1 Axes>"
            ]
          },
          "metadata": {
            "tags": []
          }
        }
      ]
    },
    {
      "cell_type": "markdown",
      "metadata": {
        "id": "fn1oY28jhV2D",
        "colab_type": "text"
      },
      "source": [
        "**RENSET-50**"
      ]
    },
    {
      "cell_type": "markdown",
      "metadata": {
        "id": "vwR2SRtovRSj",
        "colab_type": "text"
      },
      "source": [
        "![alt text](https://drive.google.com/uc?id=1AVrd3fGrlhqNM2w4A952Tu9IvaK2v_0S)"
      ]
    },
    {
      "cell_type": "markdown",
      "metadata": {
        "id": "gi-hjUflvzqv",
        "colab_type": "text"
      },
      "source": [
        "Image Credits\n",
        "\n",
        "\n",
        "*   https://towardsdatascience.com/an-overview-of-resnet-and-its-variants-5281e2f56035\n",
        "*   Author: Vincent Fung\n",
        "\n",
        "\n"
      ]
    },
    {
      "cell_type": "code",
      "metadata": {
        "id": "XyBiEXFUREFI",
        "colab_type": "code",
        "outputId": "7a348e43-2472-4916-9f32-b65d4152e0de",
        "colab": {
          "base_uri": "https://localhost:8080/",
          "height": 541
        }
      },
      "source": [
        "# Import train_test_split from scikit library\n",
        "from keras.applications import ResNet50\n",
        "from keras.models import Sequential\n",
        "from keras.layers import Conv2D, MaxPooling2D, AveragePooling2D, Dense, Flatten, Dropout\n",
        "from keras.optimizers import Adam\n",
        "from keras.callbacks import TensorBoard\n",
        "from sklearn.model_selection import train_test_split\n",
        "cnn_model = Sequential()\n",
        "cnn_model.add(ResNet50(weights='imagenet',include_top=False,input_shape=(64,64,3)))\n",
        "for layer in cnn_model.layers[:-4]:\n",
        "    layer.trainable = False\n",
        "cnn_model.add(Flatten())\n",
        "cnn_model.add(Dense(units=120, activation='relu'))\n",
        "cnn_model.add(Dense(units=84, activation='relu'))\n",
        "cnn_model.add(Dense(units=30, activation = 'softmax'))"
      ],
      "execution_count": 0,
      "outputs": [
        {
          "output_type": "stream",
          "text": [
            "WARNING:tensorflow:From /usr/local/lib/python3.6/dist-packages/keras/backend/tensorflow_backend.py:66: The name tf.get_default_graph is deprecated. Please use tf.compat.v1.get_default_graph instead.\n",
            "\n",
            "WARNING:tensorflow:From /usr/local/lib/python3.6/dist-packages/keras/backend/tensorflow_backend.py:541: The name tf.placeholder is deprecated. Please use tf.compat.v1.placeholder instead.\n",
            "\n",
            "WARNING:tensorflow:From /usr/local/lib/python3.6/dist-packages/keras/backend/tensorflow_backend.py:4479: The name tf.truncated_normal is deprecated. Please use tf.random.truncated_normal instead.\n",
            "\n",
            "WARNING:tensorflow:From /usr/local/lib/python3.6/dist-packages/keras/backend/tensorflow_backend.py:190: The name tf.get_default_session is deprecated. Please use tf.compat.v1.get_default_session instead.\n",
            "\n",
            "WARNING:tensorflow:From /usr/local/lib/python3.6/dist-packages/keras/backend/tensorflow_backend.py:197: The name tf.ConfigProto is deprecated. Please use tf.compat.v1.ConfigProto instead.\n",
            "\n",
            "WARNING:tensorflow:From /usr/local/lib/python3.6/dist-packages/keras/backend/tensorflow_backend.py:203: The name tf.Session is deprecated. Please use tf.compat.v1.Session instead.\n",
            "\n",
            "WARNING:tensorflow:From /usr/local/lib/python3.6/dist-packages/keras/backend/tensorflow_backend.py:207: The name tf.global_variables is deprecated. Please use tf.compat.v1.global_variables instead.\n",
            "\n",
            "WARNING:tensorflow:From /usr/local/lib/python3.6/dist-packages/keras/backend/tensorflow_backend.py:216: The name tf.is_variable_initialized is deprecated. Please use tf.compat.v1.is_variable_initialized instead.\n",
            "\n",
            "WARNING:tensorflow:From /usr/local/lib/python3.6/dist-packages/keras/backend/tensorflow_backend.py:223: The name tf.variables_initializer is deprecated. Please use tf.compat.v1.variables_initializer instead.\n",
            "\n",
            "WARNING:tensorflow:From /usr/local/lib/python3.6/dist-packages/keras/backend/tensorflow_backend.py:2041: The name tf.nn.fused_batch_norm is deprecated. Please use tf.compat.v1.nn.fused_batch_norm instead.\n",
            "\n",
            "WARNING:tensorflow:From /usr/local/lib/python3.6/dist-packages/keras/backend/tensorflow_backend.py:148: The name tf.placeholder_with_default is deprecated. Please use tf.compat.v1.placeholder_with_default instead.\n",
            "\n",
            "WARNING:tensorflow:From /usr/local/lib/python3.6/dist-packages/keras/backend/tensorflow_backend.py:4267: The name tf.nn.max_pool is deprecated. Please use tf.nn.max_pool2d instead.\n",
            "\n"
          ],
          "name": "stdout"
        },
        {
          "output_type": "stream",
          "text": [
            "/usr/local/lib/python3.6/dist-packages/keras_applications/resnet50.py:265: UserWarning: The output shape of `ResNet50(include_top=False)` has been changed since Keras 2.2.0.\n",
            "  warnings.warn('The output shape of `ResNet50(include_top=False)` '\n"
          ],
          "name": "stderr"
        },
        {
          "output_type": "stream",
          "text": [
            "Downloading data from https://github.com/fchollet/deep-learning-models/releases/download/v0.2/resnet50_weights_tf_dim_ordering_tf_kernels_notop.h5\n",
            "94658560/94653016 [==============================] - 1s 0us/step\n",
            "WARNING:tensorflow:From /usr/local/lib/python3.6/dist-packages/keras/backend/tensorflow_backend.py:4432: The name tf.random_uniform is deprecated. Please use tf.random.uniform instead.\n",
            "\n"
          ],
          "name": "stdout"
        }
      ]
    },
    {
      "cell_type": "code",
      "metadata": {
        "id": "V8kYFVw3mUFD",
        "colab_type": "code",
        "outputId": "86d1458f-73b5-4b55-9c87-508fc33d4399",
        "colab": {
          "base_uri": "https://localhost:8080/",
          "height": 1000
        }
      },
      "source": [
        "# Compile the model\n",
        "cnn_model.compile(loss='categorical_crossentropy',\n",
        "              optimizer=optimizers.Adam(lr=1e-4),\n",
        "              metrics=['acc'])\n",
        "\n",
        "# Train the Model\n",
        "history = cnn_model.fit_generator(\n",
        "      train_generator,\n",
        "      steps_per_epoch=train_generator.samples/train_generator.batch_size ,\n",
        "      epochs=50,\n",
        "      validation_data=val_generator,\n",
        "      validation_steps=val_generator.samples/val_generator.batch_size,\n",
        "      verbose=1)"
      ],
      "execution_count": 0,
      "outputs": [
        {
          "output_type": "stream",
          "text": [
            "WARNING:tensorflow:From /usr/local/lib/python3.6/dist-packages/keras/optimizers.py:793: The name tf.train.Optimizer is deprecated. Please use tf.compat.v1.train.Optimizer instead.\n",
            "\n",
            "WARNING:tensorflow:From /usr/local/lib/python3.6/dist-packages/keras/backend/tensorflow_backend.py:3576: The name tf.log is deprecated. Please use tf.math.log instead.\n",
            "\n",
            "WARNING:tensorflow:From /usr/local/lib/python3.6/dist-packages/tensorflow_core/python/ops/math_grad.py:1424: where (from tensorflow.python.ops.array_ops) is deprecated and will be removed in a future version.\n",
            "Instructions for updating:\n",
            "Use tf.where in 2.0, which has the same broadcast rule as np.where\n",
            "WARNING:tensorflow:From /usr/local/lib/python3.6/dist-packages/keras/backend/tensorflow_backend.py:1033: The name tf.assign_add is deprecated. Please use tf.compat.v1.assign_add instead.\n",
            "\n",
            "WARNING:tensorflow:From /usr/local/lib/python3.6/dist-packages/keras/backend/tensorflow_backend.py:1020: The name tf.assign is deprecated. Please use tf.compat.v1.assign instead.\n",
            "\n",
            "Epoch 1/50\n",
            "25/24 [==============================] - 375s 15s/step - loss: 3.3623 - acc: 0.0878 - val_loss: 3.4326 - val_acc: 0.1776\n",
            "Epoch 2/50\n",
            "25/24 [==============================] - 150s 6s/step - loss: 2.6442 - acc: 0.2800 - val_loss: 2.9914 - val_acc: 0.2960\n",
            "Epoch 3/50\n",
            "25/24 [==============================] - 149s 6s/step - loss: 2.0569 - acc: 0.4528 - val_loss: 2.4867 - val_acc: 0.4567\n",
            "Epoch 4/50\n",
            "25/24 [==============================] - 152s 6s/step - loss: 1.4749 - acc: 0.5933 - val_loss: 2.0337 - val_acc: 0.5328\n",
            "Epoch 5/50\n",
            "25/24 [==============================] - 150s 6s/step - loss: 1.0973 - acc: 0.7006 - val_loss: 1.7933 - val_acc: 0.5603\n",
            "Epoch 6/50\n",
            "25/24 [==============================] - 150s 6s/step - loss: 0.8558 - acc: 0.7500 - val_loss: 1.7447 - val_acc: 0.5941\n",
            "Epoch 7/50\n",
            "25/24 [==============================] - 149s 6s/step - loss: 0.7495 - acc: 0.7856 - val_loss: 1.3273 - val_acc: 0.6765\n",
            "Epoch 8/50\n",
            "25/24 [==============================] - 150s 6s/step - loss: 0.6137 - acc: 0.8206 - val_loss: 1.0267 - val_acc: 0.7082\n",
            "Epoch 9/50\n",
            "25/24 [==============================] - 149s 6s/step - loss: 0.5470 - acc: 0.8339 - val_loss: 0.8404 - val_acc: 0.7569\n",
            "Epoch 10/50\n",
            "25/24 [==============================] - 149s 6s/step - loss: 0.4328 - acc: 0.8778 - val_loss: 0.9446 - val_acc: 0.7209\n",
            "Epoch 11/50\n",
            "25/24 [==============================] - 149s 6s/step - loss: 0.5391 - acc: 0.8500 - val_loss: 1.0420 - val_acc: 0.7230\n",
            "Epoch 12/50\n",
            "25/24 [==============================] - 148s 6s/step - loss: 0.4514 - acc: 0.8583 - val_loss: 0.8956 - val_acc: 0.7442\n",
            "Epoch 13/50\n",
            "25/24 [==============================] - 148s 6s/step - loss: 0.3643 - acc: 0.8844 - val_loss: 1.0549 - val_acc: 0.7125\n",
            "Epoch 14/50\n",
            "25/24 [==============================] - 149s 6s/step - loss: 0.3283 - acc: 0.8973 - val_loss: 0.7795 - val_acc: 0.8055\n",
            "Epoch 15/50\n",
            "25/24 [==============================] - 153s 6s/step - loss: 0.3966 - acc: 0.8750 - val_loss: 0.7059 - val_acc: 0.8224\n",
            "Epoch 16/50\n",
            "25/24 [==============================] - 151s 6s/step - loss: 0.3018 - acc: 0.8872 - val_loss: 0.5487 - val_acc: 0.8541\n",
            "Epoch 17/50\n",
            "25/24 [==============================] - 150s 6s/step - loss: 0.2913 - acc: 0.9150 - val_loss: 0.6899 - val_acc: 0.8076\n",
            "Epoch 18/50\n",
            "25/24 [==============================] - 150s 6s/step - loss: 0.3241 - acc: 0.8977 - val_loss: 0.4122 - val_acc: 0.8774\n",
            "Epoch 19/50\n",
            "25/24 [==============================] - 150s 6s/step - loss: 0.2774 - acc: 0.9139 - val_loss: 0.4674 - val_acc: 0.8774\n",
            "Epoch 20/50\n",
            "25/24 [==============================] - 150s 6s/step - loss: 0.3032 - acc: 0.9067 - val_loss: 0.6599 - val_acc: 0.8203\n",
            "Epoch 21/50\n",
            "25/24 [==============================] - 150s 6s/step - loss: 0.2708 - acc: 0.9106 - val_loss: 1.2618 - val_acc: 0.7125\n",
            "Epoch 22/50\n",
            "25/24 [==============================] - 150s 6s/step - loss: 0.2555 - acc: 0.9200 - val_loss: 0.7623 - val_acc: 0.7886\n",
            "Epoch 23/50\n",
            "25/24 [==============================] - 150s 6s/step - loss: 0.2524 - acc: 0.9133 - val_loss: 1.2249 - val_acc: 0.7209\n",
            "Epoch 24/50\n",
            "25/24 [==============================] - 150s 6s/step - loss: 0.2351 - acc: 0.9311 - val_loss: 1.1465 - val_acc: 0.7717\n",
            "Epoch 25/50\n",
            "25/24 [==============================] - 150s 6s/step - loss: 0.2531 - acc: 0.9272 - val_loss: 0.6659 - val_acc: 0.8245\n",
            "Epoch 26/50\n",
            "25/24 [==============================] - 149s 6s/step - loss: 0.2328 - acc: 0.9261 - val_loss: 0.3867 - val_acc: 0.8922\n",
            "Epoch 27/50\n",
            "25/24 [==============================] - 151s 6s/step - loss: 0.2020 - acc: 0.9333 - val_loss: 0.3912 - val_acc: 0.8710\n",
            "Epoch 28/50\n",
            "25/24 [==============================] - 152s 6s/step - loss: 0.2072 - acc: 0.9272 - val_loss: 0.6510 - val_acc: 0.8245\n",
            "Epoch 29/50\n",
            "25/24 [==============================] - 150s 6s/step - loss: 0.1937 - acc: 0.9333 - val_loss: 0.9253 - val_acc: 0.7822\n",
            "Epoch 30/50\n",
            "25/24 [==============================] - 149s 6s/step - loss: 0.2634 - acc: 0.9184 - val_loss: 1.4548 - val_acc: 0.6765\n",
            "Epoch 31/50\n",
            "25/24 [==============================] - 149s 6s/step - loss: 0.2506 - acc: 0.9200 - val_loss: 1.2124 - val_acc: 0.7082\n",
            "Epoch 32/50\n",
            "25/24 [==============================] - 149s 6s/step - loss: 0.2396 - acc: 0.9261 - val_loss: 1.1890 - val_acc: 0.7230\n",
            "Epoch 33/50\n",
            "25/24 [==============================] - 148s 6s/step - loss: 0.2491 - acc: 0.9223 - val_loss: 1.0853 - val_acc: 0.7294\n",
            "Epoch 34/50\n",
            "25/24 [==============================] - 149s 6s/step - loss: 0.2036 - acc: 0.9305 - val_loss: 0.6322 - val_acc: 0.8288\n",
            "Epoch 35/50\n",
            "25/24 [==============================] - 150s 6s/step - loss: 0.1682 - acc: 0.9511 - val_loss: 0.6566 - val_acc: 0.8245\n",
            "Epoch 36/50\n",
            "25/24 [==============================] - 149s 6s/step - loss: 0.1588 - acc: 0.9394 - val_loss: 0.6433 - val_acc: 0.8372\n",
            "Epoch 37/50\n",
            "25/24 [==============================] - 150s 6s/step - loss: 0.1844 - acc: 0.9417 - val_loss: 0.6149 - val_acc: 0.8372\n",
            "Epoch 38/50\n",
            "25/24 [==============================] - 149s 6s/step - loss: 0.1688 - acc: 0.9467 - val_loss: 0.8578 - val_acc: 0.8055\n",
            "Epoch 39/50\n",
            "25/24 [==============================] - 153s 6s/step - loss: 0.1967 - acc: 0.9422 - val_loss: 0.6705 - val_acc: 0.8288\n",
            "Epoch 40/50\n",
            "25/24 [==============================] - 149s 6s/step - loss: 0.1910 - acc: 0.9378 - val_loss: 0.8998 - val_acc: 0.7484\n",
            "Epoch 41/50\n",
            "25/24 [==============================] - 149s 6s/step - loss: 0.1709 - acc: 0.9445 - val_loss: 0.7403 - val_acc: 0.7907\n",
            "Epoch 42/50\n",
            "25/24 [==============================] - 149s 6s/step - loss: 0.1719 - acc: 0.9572 - val_loss: 0.9998 - val_acc: 0.7590\n",
            "Epoch 43/50\n",
            "25/24 [==============================] - 149s 6s/step - loss: 0.1819 - acc: 0.9483 - val_loss: 1.2536 - val_acc: 0.6702\n",
            "Epoch 44/50\n",
            "25/24 [==============================] - 149s 6s/step - loss: 0.2156 - acc: 0.9305 - val_loss: 1.6588 - val_acc: 0.6089\n",
            "Epoch 45/50\n",
            "25/24 [==============================] - 148s 6s/step - loss: 0.1861 - acc: 0.9428 - val_loss: 1.7590 - val_acc: 0.6216\n",
            "Epoch 46/50\n",
            "25/24 [==============================] - 148s 6s/step - loss: 0.1537 - acc: 0.9594 - val_loss: 0.4822 - val_acc: 0.8858\n",
            "Epoch 47/50\n",
            "25/24 [==============================] - 149s 6s/step - loss: 0.1403 - acc: 0.9583 - val_loss: 0.3952 - val_acc: 0.9070\n",
            "Epoch 48/50\n",
            "25/24 [==============================] - 149s 6s/step - loss: 0.1219 - acc: 0.9584 - val_loss: 0.6491 - val_acc: 0.8457\n",
            "Epoch 49/50\n",
            "25/24 [==============================] - 149s 6s/step - loss: 0.1321 - acc: 0.9600 - val_loss: 0.5603 - val_acc: 0.8626\n",
            "Epoch 50/50\n",
            "25/24 [==============================] - 149s 6s/step - loss: 0.1175 - acc: 0.9500 - val_loss: 0.5934 - val_acc: 0.8393\n"
          ],
          "name": "stdout"
        }
      ]
    },
    {
      "cell_type": "markdown",
      "metadata": {
        "id": "_euQQjQdmX9l",
        "colab_type": "text"
      },
      "source": [
        "![alt text](https://drive.google.com/uc?id=1zt8gdCGHsAdfVNTcBLsO2aMXwnYOx3em)"
      ]
    },
    {
      "cell_type": "markdown",
      "metadata": {
        "id": "Z_e6N6cE4I0b",
        "colab_type": "text"
      },
      "source": [
        "**Above given snippet is of initial layers of RESNET 50, unfortunately it was not feasible to run it again as it took lot of computational power(runtime -> 3 hours apprx on CPU / 2 hour on GPU).**"
      ]
    },
    {
      "cell_type": "code",
      "metadata": {
        "id": "dDL4CYblSvUY",
        "colab_type": "code",
        "outputId": "7951c222-8ad9-4929-eb15-b572debf37b6",
        "colab": {
          "base_uri": "https://localhost:8080/",
          "height": 545
        }
      },
      "source": [
        "# Plot the accuracy and loss curves\n",
        "acc = history.history['acc']\n",
        "val_acc = history.history['val_acc']\n",
        "loss = history.history['loss']\n",
        "val_loss = history.history['val_loss']\n",
        "\n",
        "epochs = range(len(acc))\n",
        "\n",
        "plt.plot(epochs, acc, 'b', label='Training acc')\n",
        "plt.plot(epochs, val_acc, 'r', label='Test acc')\n",
        "plt.title('Training and test accuracy')\n",
        "plt.legend()\n",
        "\n",
        "plt.figure()\n",
        "\n",
        "plt.plot(epochs, loss, 'b', label='Training loss')\n",
        "plt.plot(epochs, val_loss, 'r', label='Test loss')\n",
        "plt.title('Training and test loss')\n",
        "plt.legend()\n",
        "plt.show()"
      ],
      "execution_count": 0,
      "outputs": [
        {
          "output_type": "display_data",
          "data": {
            "image/png": "[encoded data removed]",
            "text/plain": [
              "<Figure size 432x288 with 1 Axes>"
            ]
          },
          "metadata": {
            "tags": []
          }
        },
        {
          "output_type": "display_data",
          "data": {
            "image/png": "[encoded data removed]",
            "text/plain": [
              "<Figure size 432x288 with 1 Axes>"
            ]
          },
          "metadata": {
            "tags": []
          }
        }
      ]
    }
  ]
}